{
 "cells": [
  {
   "cell_type": "code",
   "execution_count": 10,
   "id": "21b4cb2c",
   "metadata": {},
   "outputs": [],
   "source": [
    "# standard and user-defined functions imports\n",
    "import pandas as pd\n",
    "import numpy as np\n",
    "import wrangle\n",
    "import explore\n",
    "import regression_models as model\n",
    "import os\n",
    "\n",
    "# visualization imports\n",
    "import matplotlib.pyplot as plt\n",
    "import seaborn as sns\n",
    "\n",
    "# stats and modeling imports\n",
    "from scipy import stats\n",
    "from math import sqrt\n",
    "from sklearn.preprocessing import MinMaxScaler, PolynomialFeatures\n",
    "from sklearn.model_selection import train_test_split\n",
    "from sklearn.metrics import mean_squared_error,explained_variance_score, r2_score\n",
    "from sklearn.linear_model import LinearRegression,LassoLars,TweedieRegressor\n",
    "from sklearn.feature_selection import SelectKBest, RFE, f_regression\n",
    "from sklearn.model_selection import cross_val_score\n",
    "from sklearn.model_selection import GridSearchCV\n"
   ]
  },
  {
   "cell_type": "code",
   "execution_count": 2,
   "id": "2f9aa7f3",
   "metadata": {},
   "outputs": [],
   "source": [
    "# acquire time series dataframe using function from wrangle.py and save to a variable\n",
    "ts_df = wrangle.ts_bee_prep()"
   ]
  },
  {
   "cell_type": "code",
   "execution_count": 4,
   "id": "9c42364c",
   "metadata": {},
   "outputs": [],
   "source": [
    "# split data\n",
    "train, validate, test = wrangle.ts_split(ts_df)"
   ]
  },
  {
   "cell_type": "code",
   "execution_count": 5,
   "id": "aefbb6f8",
   "metadata": {},
   "outputs": [],
   "source": [
    "# set year column as datetime index\n",
    "train = train.set_index('year').sort_index()\n",
    "validate = validate.set_index('year').sort_index()\n",
    "test = test.set_index('year').sort_index()"
   ]
  },
  {
   "cell_type": "code",
   "execution_count": 6,
   "id": "bc0f9923",
   "metadata": {},
   "outputs": [],
   "source": [
    "# numeric columns to be scaled\n",
    "columns = [col for col in train.drop(columns = [\"state\",\"season\",\"colonies_lost\"])]"
   ]
  },
  {
   "cell_type": "code",
   "execution_count": 7,
   "id": "186d3c32",
   "metadata": {},
   "outputs": [],
   "source": [
    "#run scale data function to scale our numeric columns\n",
    "scaled_train, scaled_validate, scaled_test = model.scale_data(train,validate,test,columns)"
   ]
  },
  {
   "cell_type": "code",
   "execution_count": 8,
   "id": "bfd0727e",
   "metadata": {},
   "outputs": [],
   "source": [
    "#create list of  features to train the regression model with\n",
    "features = ['starting_colonies_scaled', 'ending_colonies_scaled','colonies_net_gain_scaled', 'beekeeper_colony_ratio_scaled']"
   ]
  },
  {
   "cell_type": "code",
   "execution_count": 9,
   "id": "d9fe0bf7",
   "metadata": {},
   "outputs": [],
   "source": [
    "# X_train will be subset of our scaled train data with features only\n",
    "X_train = scaled_train[features]\n",
    "# set target\n",
    "y_train = scaled_train[[\"colonies_lost\"]]\n",
    "# X_validate will be subset of our scaled validate data with features only\n",
    "X_validate = scaled_validate[features]\n",
    "# set target\n",
    "y_validate = scaled_validate[[\"colonies_lost\"]]\n",
    "# X_test will be subset of our scaled test data with features only\n",
    "X_test = scaled_test[features]\n",
    "#set target\n",
    "y_test = scaled_test[[\"colonies_lost\"]]"
   ]
  },
  {
   "cell_type": "markdown",
   "id": "48e61f0b",
   "metadata": {},
   "source": [
    "### Linear regression"
   ]
  },
  {
   "cell_type": "code",
   "execution_count": 11,
   "id": "d2e2046d",
   "metadata": {},
   "outputs": [],
   "source": [
    "# specify the parameters we wish to use as a dictionary, then use that dictionary when we create the class.\n",
    "params = {'normalize': [ True, False],\n",
    "          'fit_intercept': [True, False]}"
   ]
  },
  {
   "cell_type": "code",
   "execution_count": 12,
   "id": "3992c692",
   "metadata": {},
   "outputs": [],
   "source": [
    "grid = GridSearchCV(LinearRegression(), params, cv=5)"
   ]
  },
  {
   "cell_type": "code",
   "execution_count": 13,
   "id": "2748a371",
   "metadata": {},
   "outputs": [
    {
     "data": {
      "text/plain": [
       "GridSearchCV(cv=5, estimator=LinearRegression(),\n",
       "             param_grid={'fit_intercept': [True, False],\n",
       "                         'normalize': [True, False]})"
      ]
     },
     "execution_count": 13,
     "metadata": {},
     "output_type": "execute_result"
    }
   ],
   "source": [
    "grid.fit(X_train,y_train.colonies_lost)"
   ]
  },
  {
   "cell_type": "code",
   "execution_count": 14,
   "id": "9c7d8b5f",
   "metadata": {},
   "outputs": [
    {
     "data": {
      "text/plain": [
       "LinearRegression(normalize=True)"
      ]
     },
     "execution_count": 14,
     "metadata": {},
     "output_type": "execute_result"
    }
   ],
   "source": [
    "grid.best_estimator_"
   ]
  },
  {
   "cell_type": "code",
   "execution_count": 23,
   "id": "1ef80d8b",
   "metadata": {},
   "outputs": [],
   "source": [
    "def best_hyperparameter(X_train,y_train):\n",
    "    '''This function will input X,y and variation in hyperparameters and\n",
    "    outputs best hyperparameter'''\n",
    "    #define hyperparamters\n",
    "    params = {'normalize': [ True, False],\n",
    "          'fit_intercept': [True, False]}\n",
    "    #create grid object\n",
    "    grid = GridSearchCV(LinearRegression(), params, cv=5)\n",
    "    #fit grid object\n",
    "    grid.fit(X_train,y_train.colonies_lost)\n",
    "    #get best hyperparameters\n",
    "    best = grid.best_estimator_\n",
    "    \n",
    "    #return output\n",
    "    return best\n",
    "    "
   ]
  },
  {
   "cell_type": "code",
   "execution_count": 25,
   "id": "edf5e2e9",
   "metadata": {},
   "outputs": [
    {
     "data": {
      "text/plain": [
       "LinearRegression(normalize=True)"
      ]
     },
     "execution_count": 25,
     "metadata": {},
     "output_type": "execute_result"
    }
   ],
   "source": [
    "best_hyperparameter(X_train,y_train)"
   ]
  },
  {
   "cell_type": "markdown",
   "id": "1b7ca260",
   "metadata": {},
   "source": [
    "### Lassolars"
   ]
  },
  {
   "cell_type": "code",
   "execution_count": 15,
   "id": "7e4870f8",
   "metadata": {},
   "outputs": [],
   "source": [
    "params = {\n",
    "          'normalize': [True, False],\n",
    "          'fit_intercept':[True, False],\n",
    "           'alpha': [1,2,3,4]\n",
    "         }"
   ]
  },
  {
   "cell_type": "code",
   "execution_count": 16,
   "id": "a885bd1f",
   "metadata": {},
   "outputs": [],
   "source": [
    "grid = GridSearchCV(LassoLars(), params, cv=5)"
   ]
  },
  {
   "cell_type": "code",
   "execution_count": 17,
   "id": "f787ae85",
   "metadata": {},
   "outputs": [
    {
     "data": {
      "text/plain": [
       "GridSearchCV(cv=5, estimator=LassoLars(),\n",
       "             param_grid={'alpha': [1, 2, 3, 4], 'fit_intercept': [True, False],\n",
       "                         'normalize': [True, False]})"
      ]
     },
     "execution_count": 17,
     "metadata": {},
     "output_type": "execute_result"
    }
   ],
   "source": [
    "grid.fit(X_train,y_train.colonies_lost)"
   ]
  },
  {
   "cell_type": "code",
   "execution_count": 18,
   "id": "b5ff2dcb",
   "metadata": {},
   "outputs": [
    {
     "data": {
      "text/plain": [
       "LassoLars(alpha=1, normalize=True)"
      ]
     },
     "execution_count": 18,
     "metadata": {},
     "output_type": "execute_result"
    }
   ],
   "source": [
    "grid.best_estimator_"
   ]
  },
  {
   "cell_type": "code",
   "execution_count": 26,
   "id": "e61657c7",
   "metadata": {},
   "outputs": [],
   "source": [
    "def best_hyperparameter(X_train,y_train):\n",
    "    '''This function will input X,y and variation in hyperparameters and\n",
    "    outputs best hyperparameter'''\n",
    "    #define hyperparamters\n",
    "    params = {\n",
    "          'normalize': [True, False],\n",
    "          'fit_intercept':[True, False],\n",
    "           'alpha': [1,2,3,4]\n",
    "         }\n",
    "    #create grid object\n",
    "    grid = GridSearchCV(LassoLars(), params, cv=5)\n",
    "    #fit grid object\n",
    "    grid.fit(X_train,y_train.colonies_lost)\n",
    "    #get best hyperparameters\n",
    "    best = grid.best_estimator_\n",
    "    \n",
    "    #return output\n",
    "    return best\n",
    "    "
   ]
  },
  {
   "cell_type": "code",
   "execution_count": 27,
   "id": "34f6ce5f",
   "metadata": {},
   "outputs": [
    {
     "data": {
      "text/plain": [
       "LassoLars(alpha=1, normalize=True)"
      ]
     },
     "execution_count": 27,
     "metadata": {},
     "output_type": "execute_result"
    }
   ],
   "source": [
    "best_hyperparameter(X_train,y_train)"
   ]
  },
  {
   "cell_type": "markdown",
   "id": "117e3e66",
   "metadata": {},
   "source": [
    "### Tweedie"
   ]
  },
  {
   "cell_type": "code",
   "execution_count": 19,
   "id": "8a5171a1",
   "metadata": {},
   "outputs": [],
   "source": [
    "params = {\n",
    "          'power': [0, 1,2,3,4,5],\n",
    "           'fit_intercept' : [True , False],\n",
    "          'warm_start': [True, False], \n",
    "           'alpha': [1,2,3,4,5]\n",
    "}"
   ]
  },
  {
   "cell_type": "code",
   "execution_count": 20,
   "id": "6dd6f116",
   "metadata": {},
   "outputs": [],
   "source": [
    "grid = GridSearchCV(TweedieRegressor(), params, cv=5)"
   ]
  },
  {
   "cell_type": "code",
   "execution_count": 21,
   "id": "fc485f54",
   "metadata": {},
   "outputs": [
    {
     "data": {
      "text/plain": [
       "GridSearchCV(cv=5, estimator=TweedieRegressor(),\n",
       "             param_grid={'alpha': [1, 2, 3, 4, 5],\n",
       "                         'fit_intercept': [True, False],\n",
       "                         'power': [0, 1, 2, 3, 4, 5],\n",
       "                         'warm_start': [True, False]})"
      ]
     },
     "execution_count": 21,
     "metadata": {},
     "output_type": "execute_result"
    }
   ],
   "source": [
    "grid.fit(X_train,y_train.colonies_lost)"
   ]
  },
  {
   "cell_type": "code",
   "execution_count": 22,
   "id": "cdba22c8",
   "metadata": {},
   "outputs": [
    {
     "data": {
      "text/plain": [
       "TweedieRegressor(alpha=5, power=1, warm_start=True)"
      ]
     },
     "execution_count": 22,
     "metadata": {},
     "output_type": "execute_result"
    }
   ],
   "source": [
    "grid.best_estimator_"
   ]
  },
  {
   "cell_type": "code",
   "execution_count": 47,
   "id": "3cfcaa82",
   "metadata": {},
   "outputs": [],
   "source": [
    "def best_hyperparameter(X_train,y_train):\n",
    "    '''This function will input X,y and variation in hyperparameters and\n",
    "    outputs best hyperparameter'''\n",
    "    #define hyperparameters\n",
    "    params = {\n",
    "          'power': [0, 1,2,3],\n",
    "           'fit_intercept' : [True , False],\n",
    "          'warm_start': [True, False], \n",
    "           'alpha': [1,2,3,4,5]\n",
    "}\n",
    "    #create grid object\n",
    "    grid = GridSearchCV(TweedieRegressor(), params, cv=5,scoring = 'neg_root_mean_squared_error')\n",
    "    #fit grid object\n",
    "    grid.fit(X_train,y_train.colonies_lost)\n",
    "    #get best parameters\n",
    "    best = grid.best_estimator_\n",
    "    \n",
    "    #return output\n",
    "    return best"
   ]
  },
  {
   "cell_type": "code",
   "execution_count": 48,
   "id": "c2e8700a",
   "metadata": {},
   "outputs": [
    {
     "data": {
      "text/plain": [
       "TweedieRegressor(alpha=5, power=1, warm_start=True)"
      ]
     },
     "execution_count": 48,
     "metadata": {},
     "output_type": "execute_result"
    }
   ],
   "source": [
    "best_hyperparameter(X_train,y_train)"
   ]
  },
  {
   "cell_type": "code",
   "execution_count": null,
   "id": "0dbd5b6b",
   "metadata": {},
   "outputs": [],
   "source": []
  }
 ],
 "metadata": {
  "kernelspec": {
   "display_name": "Python 3 (ipykernel)",
   "language": "python",
   "name": "python3"
  },
  "language_info": {
   "codemirror_mode": {
    "name": "ipython",
    "version": 3
   },
   "file_extension": ".py",
   "mimetype": "text/x-python",
   "name": "python",
   "nbconvert_exporter": "python",
   "pygments_lexer": "ipython3",
   "version": "3.9.12"
  }
 },
 "nbformat": 4,
 "nbformat_minor": 5
}
